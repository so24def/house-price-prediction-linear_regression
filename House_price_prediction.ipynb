{
 "cells": [
  {
   "cell_type": "markdown",
   "id": "457a4c57",
   "metadata": {},
   "source": [
    "# Veriyi inceleme"
   ]
  },
  {
   "cell_type": "code",
   "execution_count": 1,
   "id": "311b5a37",
   "metadata": {},
   "outputs": [],
   "source": [
    "import numpy as np\n",
    "import pandas as pd\n",
    "import matplotlib.pyplot as plt\n",
    "import copy, math\n",
    "\n",
    "%matplotlib inline"
   ]
  },
  {
   "cell_type": "code",
   "execution_count": 2,
   "id": "ebe607b7",
   "metadata": {},
   "outputs": [
    {
     "data": {
      "text/html": [
       "<div>\n",
       "<style scoped>\n",
       "    .dataframe tbody tr th:only-of-type {\n",
       "        vertical-align: middle;\n",
       "    }\n",
       "\n",
       "    .dataframe tbody tr th {\n",
       "        vertical-align: top;\n",
       "    }\n",
       "\n",
       "    .dataframe thead th {\n",
       "        text-align: right;\n",
       "    }\n",
       "</style>\n",
       "<table border=\"1\" class=\"dataframe\">\n",
       "  <thead>\n",
       "    <tr style=\"text-align: right;\">\n",
       "      <th></th>\n",
       "      <th>fiyat</th>\n",
       "      <th>boyut</th>\n",
       "      <th>metro_yakinlik</th>\n",
       "    </tr>\n",
       "  </thead>\n",
       "  <tbody>\n",
       "    <tr>\n",
       "      <th>0</th>\n",
       "      <td>234314.144</td>\n",
       "      <td>98</td>\n",
       "      <td>15</td>\n",
       "    </tr>\n",
       "    <tr>\n",
       "      <th>1</th>\n",
       "      <td>228581.528</td>\n",
       "      <td>100</td>\n",
       "      <td>16</td>\n",
       "    </tr>\n",
       "    <tr>\n",
       "      <th>2</th>\n",
       "      <td>281626.336</td>\n",
       "      <td>74</td>\n",
       "      <td>13</td>\n",
       "    </tr>\n",
       "    <tr>\n",
       "      <th>3</th>\n",
       "      <td>401255.608</td>\n",
       "      <td>229</td>\n",
       "      <td>5</td>\n",
       "    </tr>\n",
       "    <tr>\n",
       "      <th>4</th>\n",
       "      <td>458674.256</td>\n",
       "      <td>194</td>\n",
       "      <td>4</td>\n",
       "    </tr>\n",
       "    <tr>\n",
       "      <th>...</th>\n",
       "      <td>...</td>\n",
       "      <td>...</td>\n",
       "      <td>...</td>\n",
       "    </tr>\n",
       "    <tr>\n",
       "      <th>95</th>\n",
       "      <td>252460.400</td>\n",
       "      <td>84</td>\n",
       "      <td>14</td>\n",
       "    </tr>\n",
       "    <tr>\n",
       "      <th>96</th>\n",
       "      <td>310522.592</td>\n",
       "      <td>158</td>\n",
       "      <td>11</td>\n",
       "    </tr>\n",
       "    <tr>\n",
       "      <th>97</th>\n",
       "      <td>383635.568</td>\n",
       "      <td>229</td>\n",
       "      <td>12</td>\n",
       "    </tr>\n",
       "    <tr>\n",
       "      <th>98</th>\n",
       "      <td>225145.248</td>\n",
       "      <td>99</td>\n",
       "      <td>25</td>\n",
       "    </tr>\n",
       "    <tr>\n",
       "      <th>99</th>\n",
       "      <td>274922.856</td>\n",
       "      <td>107</td>\n",
       "      <td>20</td>\n",
       "    </tr>\n",
       "  </tbody>\n",
       "</table>\n",
       "<p>100 rows × 3 columns</p>\n",
       "</div>"
      ],
      "text/plain": [
       "         fiyat  boyut  metro_yakinlik\n",
       "0   234314.144     98              15\n",
       "1   228581.528    100              16\n",
       "2   281626.336     74              13\n",
       "3   401255.608    229               5\n",
       "4   458674.256    194               4\n",
       "..         ...    ...             ...\n",
       "95  252460.400     84              14\n",
       "96  310522.592    158              11\n",
       "97  383635.568    229              12\n",
       "98  225145.248     99              25\n",
       "99  274922.856    107              20\n",
       "\n",
       "[100 rows x 3 columns]"
      ]
     },
     "execution_count": 2,
     "metadata": {},
     "output_type": "execute_result"
    }
   ],
   "source": [
    "df = pd.read_csv('emlak_fiyat_boyut_metro.csv')\n",
    "\n",
    "df"
   ]
  },
  {
   "cell_type": "code",
   "execution_count": 3,
   "id": "ea503e02",
   "metadata": {},
   "outputs": [
    {
     "name": "stdout",
     "output_type": "stream",
     "text": [
      "<class 'pandas.core.frame.DataFrame'>\n",
      "RangeIndex: 100 entries, 0 to 99\n",
      "Data columns (total 3 columns):\n",
      " #   Column          Non-Null Count  Dtype  \n",
      "---  ------          --------------  -----  \n",
      " 0   fiyat           100 non-null    float64\n",
      " 1   boyut           100 non-null    int64  \n",
      " 2   metro_yakinlik  100 non-null    int64  \n",
      "dtypes: float64(1), int64(2)\n",
      "memory usage: 2.5 KB\n"
     ]
    }
   ],
   "source": [
    "#null değer gözükmüyor\n",
    "df.info()"
   ]
  },
  {
   "cell_type": "code",
   "execution_count": 4,
   "id": "e5baf783",
   "metadata": {},
   "outputs": [
    {
     "data": {
      "text/plain": [
       "(100, 3)"
      ]
     },
     "execution_count": 4,
     "metadata": {},
     "output_type": "execute_result"
    }
   ],
   "source": [
    "#varsa kopya verilerden kurtulma\n",
    "df.drop_duplicates(inplace=True)\n",
    "df.shape"
   ]
  },
  {
   "cell_type": "code",
   "execution_count": 5,
   "id": "d4690808",
   "metadata": {},
   "outputs": [
    {
     "data": {
      "text/html": [
       "<div>\n",
       "<style scoped>\n",
       "    .dataframe tbody tr th:only-of-type {\n",
       "        vertical-align: middle;\n",
       "    }\n",
       "\n",
       "    .dataframe tbody tr th {\n",
       "        vertical-align: top;\n",
       "    }\n",
       "\n",
       "    .dataframe thead th {\n",
       "        text-align: right;\n",
       "    }\n",
       "</style>\n",
       "<table border=\"1\" class=\"dataframe\">\n",
       "  <thead>\n",
       "    <tr style=\"text-align: right;\">\n",
       "      <th></th>\n",
       "      <th>fiyat</th>\n",
       "      <th>boyut</th>\n",
       "      <th>metro_yakinlik</th>\n",
       "    </tr>\n",
       "  </thead>\n",
       "  <tbody>\n",
       "    <tr>\n",
       "      <th>count</th>\n",
       "      <td>100.000000</td>\n",
       "      <td>100.000000</td>\n",
       "      <td>100.000000</td>\n",
       "    </tr>\n",
       "    <tr>\n",
       "      <th>mean</th>\n",
       "      <td>292289.470160</td>\n",
       "      <td>129.960000</td>\n",
       "      <td>12.980000</td>\n",
       "    </tr>\n",
       "    <tr>\n",
       "      <th>std</th>\n",
       "      <td>77051.727525</td>\n",
       "      <td>45.389876</td>\n",
       "      <td>6.485384</td>\n",
       "    </tr>\n",
       "    <tr>\n",
       "      <th>min</th>\n",
       "      <td>154282.128000</td>\n",
       "      <td>73.000000</td>\n",
       "      <td>1.000000</td>\n",
       "    </tr>\n",
       "    <tr>\n",
       "      <th>25%</th>\n",
       "      <td>234280.148000</td>\n",
       "      <td>98.000000</td>\n",
       "      <td>8.000000</td>\n",
       "    </tr>\n",
       "    <tr>\n",
       "      <th>50%</th>\n",
       "      <td>280590.716000</td>\n",
       "      <td>106.000000</td>\n",
       "      <td>12.500000</td>\n",
       "    </tr>\n",
       "    <tr>\n",
       "      <th>75%</th>\n",
       "      <td>335723.696000</td>\n",
       "      <td>157.000000</td>\n",
       "      <td>17.000000</td>\n",
       "    </tr>\n",
       "    <tr>\n",
       "      <th>max</th>\n",
       "      <td>500681.128000</td>\n",
       "      <td>281.000000</td>\n",
       "      <td>30.000000</td>\n",
       "    </tr>\n",
       "  </tbody>\n",
       "</table>\n",
       "</div>"
      ],
      "text/plain": [
       "               fiyat       boyut  metro_yakinlik\n",
       "count     100.000000  100.000000      100.000000\n",
       "mean   292289.470160  129.960000       12.980000\n",
       "std     77051.727525   45.389876        6.485384\n",
       "min    154282.128000   73.000000        1.000000\n",
       "25%    234280.148000   98.000000        8.000000\n",
       "50%    280590.716000  106.000000       12.500000\n",
       "75%    335723.696000  157.000000       17.000000\n",
       "max    500681.128000  281.000000       30.000000"
      ]
     },
     "execution_count": 5,
     "metadata": {},
     "output_type": "execute_result"
    }
   ],
   "source": [
    "df.describe()"
   ]
  },
  {
   "cell_type": "code",
   "execution_count": 6,
   "id": "967757d5",
   "metadata": {},
   "outputs": [
    {
     "data": {
      "text/plain": [
       "Text(0, 0.5, 'Fiyat')"
      ]
     },
     "execution_count": 6,
     "metadata": {},
     "output_type": "execute_result"
    },
    {
     "data": {
      "image/png": "[encoded data removed]",
      "text/plain": [
       "<Figure size 640x480 with 1 Axes>"
      ]
     },
     "metadata": {},
     "output_type": "display_data"
    }
   ],
   "source": [
    "plt.scatter(df['boyut'], df['fiyat'])\n",
    "plt.xlabel('Ev Boyutu')\n",
    "plt.ylabel('Fiyat')"
   ]
  },
  {
   "cell_type": "code",
   "execution_count": 7,
   "id": "1a1bb312",
   "metadata": {},
   "outputs": [
    {
     "data": {
      "text/plain": [
       "Text(0, 0.5, 'Fiyat')"
      ]
     },
     "execution_count": 7,
     "metadata": {},
     "output_type": "execute_result"
    },
    {
     "data": {
      "image/png": "[encoded data removed]",
      "text/plain": [
       "<Figure size 640x480 with 1 Axes>"
      ]
     },
     "metadata": {},
     "output_type": "display_data"
    }
   ],
   "source": [
    "plt.scatter(df['metro_yakinlik'], df['fiyat'])\n",
    "plt.xlabel('Metroya Olan Mesafesi')\n",
    "plt.ylabel('Fiyat')"
   ]
  },
  {
   "cell_type": "markdown",
   "id": "ca0a8dbc",
   "metadata": {},
   "source": [
    "    Özellikler - hedef ilişkisinde doğrusallık var, lineer regresyona gayet uygun bir dataset"
   ]
  },
  {
   "cell_type": "code",
   "execution_count": 8,
   "id": "f7de5068",
   "metadata": {},
   "outputs": [
    {
     "name": "stdout",
     "output_type": "stream",
     "text": [
      "30 1\n"
     ]
    }
   ],
   "source": [
    "print(df['metro_yakinlik'].max(),df['metro_yakinlik'].min())"
   ]
  },
  {
   "cell_type": "code",
   "execution_count": 9,
   "id": "3400ddce",
   "metadata": {},
   "outputs": [
    {
     "name": "stdout",
     "output_type": "stream",
     "text": [
      "281 73\n"
     ]
    }
   ],
   "source": [
    "print(df['boyut'].max(),df['boyut'].min())"
   ]
  },
  {
   "cell_type": "markdown",
   "id": "e46dde50",
   "metadata": {},
   "source": [
    "    Değerler arasında çok fark var, max-min scaling ile normalize edeceğim"
   ]
  },
  {
   "cell_type": "code",
   "execution_count": 10,
   "id": "088f44a4",
   "metadata": {},
   "outputs": [],
   "source": [
    "def max_min_scaler(X):\n",
    "    \n",
    "    X_new = (X - X.min()) / (X.max() - X.min())\n",
    "    \n",
    "    return X_new"
   ]
  },
  {
   "cell_type": "code",
   "execution_count": 11,
   "id": "8a0bafe2",
   "metadata": {},
   "outputs": [
    {
     "data": {
      "text/plain": [
       "['boyut', 'metro_yakinlik']"
      ]
     },
     "execution_count": 11,
     "metadata": {},
     "output_type": "execute_result"
    }
   ],
   "source": [
    "df_temp = df.drop('fiyat',axis = 1)\n",
    "\n",
    "columns = list(df_temp)\n",
    "\n",
    "columns"
   ]
  },
  {
   "cell_type": "code",
   "execution_count": 12,
   "id": "39027fe3",
   "metadata": {},
   "outputs": [
    {
     "data": {
      "text/html": [
       "<div>\n",
       "<style scoped>\n",
       "    .dataframe tbody tr th:only-of-type {\n",
       "        vertical-align: middle;\n",
       "    }\n",
       "\n",
       "    .dataframe tbody tr th {\n",
       "        vertical-align: top;\n",
       "    }\n",
       "\n",
       "    .dataframe thead th {\n",
       "        text-align: right;\n",
       "    }\n",
       "</style>\n",
       "<table border=\"1\" class=\"dataframe\">\n",
       "  <thead>\n",
       "    <tr style=\"text-align: right;\">\n",
       "      <th></th>\n",
       "      <th>boyut</th>\n",
       "      <th>metro_yakinlik</th>\n",
       "    </tr>\n",
       "  </thead>\n",
       "  <tbody>\n",
       "    <tr>\n",
       "      <th>0</th>\n",
       "      <td>0.120192</td>\n",
       "      <td>0.482759</td>\n",
       "    </tr>\n",
       "    <tr>\n",
       "      <th>1</th>\n",
       "      <td>0.129808</td>\n",
       "      <td>0.517241</td>\n",
       "    </tr>\n",
       "    <tr>\n",
       "      <th>2</th>\n",
       "      <td>0.004808</td>\n",
       "      <td>0.413793</td>\n",
       "    </tr>\n",
       "    <tr>\n",
       "      <th>3</th>\n",
       "      <td>0.750000</td>\n",
       "      <td>0.137931</td>\n",
       "    </tr>\n",
       "    <tr>\n",
       "      <th>4</th>\n",
       "      <td>0.581731</td>\n",
       "      <td>0.103448</td>\n",
       "    </tr>\n",
       "    <tr>\n",
       "      <th>...</th>\n",
       "      <td>...</td>\n",
       "      <td>...</td>\n",
       "    </tr>\n",
       "    <tr>\n",
       "      <th>95</th>\n",
       "      <td>0.052885</td>\n",
       "      <td>0.448276</td>\n",
       "    </tr>\n",
       "    <tr>\n",
       "      <th>96</th>\n",
       "      <td>0.408654</td>\n",
       "      <td>0.344828</td>\n",
       "    </tr>\n",
       "    <tr>\n",
       "      <th>97</th>\n",
       "      <td>0.750000</td>\n",
       "      <td>0.379310</td>\n",
       "    </tr>\n",
       "    <tr>\n",
       "      <th>98</th>\n",
       "      <td>0.125000</td>\n",
       "      <td>0.827586</td>\n",
       "    </tr>\n",
       "    <tr>\n",
       "      <th>99</th>\n",
       "      <td>0.163462</td>\n",
       "      <td>0.655172</td>\n",
       "    </tr>\n",
       "  </tbody>\n",
       "</table>\n",
       "<p>100 rows × 2 columns</p>\n",
       "</div>"
      ],
      "text/plain": [
       "       boyut  metro_yakinlik\n",
       "0   0.120192        0.482759\n",
       "1   0.129808        0.517241\n",
       "2   0.004808        0.413793\n",
       "3   0.750000        0.137931\n",
       "4   0.581731        0.103448\n",
       "..       ...             ...\n",
       "95  0.052885        0.448276\n",
       "96  0.408654        0.344828\n",
       "97  0.750000        0.379310\n",
       "98  0.125000        0.827586\n",
       "99  0.163462        0.655172\n",
       "\n",
       "[100 rows x 2 columns]"
      ]
     },
     "execution_count": 12,
     "metadata": {},
     "output_type": "execute_result"
    }
   ],
   "source": [
    "for i in columns:\n",
    "    df_temp[i] = max_min_scaler(df_temp[i]) \n",
    "    \n",
    "df_temp"
   ]
  },
  {
   "cell_type": "code",
   "execution_count": 13,
   "id": "3d44cd6c",
   "metadata": {},
   "outputs": [
    {
     "data": {
      "text/html": [
       "<div>\n",
       "<style scoped>\n",
       "    .dataframe tbody tr th:only-of-type {\n",
       "        vertical-align: middle;\n",
       "    }\n",
       "\n",
       "    .dataframe tbody tr th {\n",
       "        vertical-align: top;\n",
       "    }\n",
       "\n",
       "    .dataframe thead th {\n",
       "        text-align: right;\n",
       "    }\n",
       "</style>\n",
       "<table border=\"1\" class=\"dataframe\">\n",
       "  <thead>\n",
       "    <tr style=\"text-align: right;\">\n",
       "      <th></th>\n",
       "      <th>fiyat</th>\n",
       "      <th>boyut</th>\n",
       "      <th>metro_yakinlik</th>\n",
       "    </tr>\n",
       "  </thead>\n",
       "  <tbody>\n",
       "    <tr>\n",
       "      <th>0</th>\n",
       "      <td>234314.144</td>\n",
       "      <td>0.120192</td>\n",
       "      <td>0.482759</td>\n",
       "    </tr>\n",
       "    <tr>\n",
       "      <th>1</th>\n",
       "      <td>228581.528</td>\n",
       "      <td>0.129808</td>\n",
       "      <td>0.517241</td>\n",
       "    </tr>\n",
       "    <tr>\n",
       "      <th>2</th>\n",
       "      <td>281626.336</td>\n",
       "      <td>0.004808</td>\n",
       "      <td>0.413793</td>\n",
       "    </tr>\n",
       "    <tr>\n",
       "      <th>3</th>\n",
       "      <td>401255.608</td>\n",
       "      <td>0.750000</td>\n",
       "      <td>0.137931</td>\n",
       "    </tr>\n",
       "    <tr>\n",
       "      <th>4</th>\n",
       "      <td>458674.256</td>\n",
       "      <td>0.581731</td>\n",
       "      <td>0.103448</td>\n",
       "    </tr>\n",
       "    <tr>\n",
       "      <th>...</th>\n",
       "      <td>...</td>\n",
       "      <td>...</td>\n",
       "      <td>...</td>\n",
       "    </tr>\n",
       "    <tr>\n",
       "      <th>95</th>\n",
       "      <td>252460.400</td>\n",
       "      <td>0.052885</td>\n",
       "      <td>0.448276</td>\n",
       "    </tr>\n",
       "    <tr>\n",
       "      <th>96</th>\n",
       "      <td>310522.592</td>\n",
       "      <td>0.408654</td>\n",
       "      <td>0.344828</td>\n",
       "    </tr>\n",
       "    <tr>\n",
       "      <th>97</th>\n",
       "      <td>383635.568</td>\n",
       "      <td>0.750000</td>\n",
       "      <td>0.379310</td>\n",
       "    </tr>\n",
       "    <tr>\n",
       "      <th>98</th>\n",
       "      <td>225145.248</td>\n",
       "      <td>0.125000</td>\n",
       "      <td>0.827586</td>\n",
       "    </tr>\n",
       "    <tr>\n",
       "      <th>99</th>\n",
       "      <td>274922.856</td>\n",
       "      <td>0.163462</td>\n",
       "      <td>0.655172</td>\n",
       "    </tr>\n",
       "  </tbody>\n",
       "</table>\n",
       "<p>100 rows × 3 columns</p>\n",
       "</div>"
      ],
      "text/plain": [
       "         fiyat     boyut  metro_yakinlik\n",
       "0   234314.144  0.120192        0.482759\n",
       "1   228581.528  0.129808        0.517241\n",
       "2   281626.336  0.004808        0.413793\n",
       "3   401255.608  0.750000        0.137931\n",
       "4   458674.256  0.581731        0.103448\n",
       "..         ...       ...             ...\n",
       "95  252460.400  0.052885        0.448276\n",
       "96  310522.592  0.408654        0.344828\n",
       "97  383635.568  0.750000        0.379310\n",
       "98  225145.248  0.125000        0.827586\n",
       "99  274922.856  0.163462        0.655172\n",
       "\n",
       "[100 rows x 3 columns]"
      ]
     },
     "execution_count": 13,
     "metadata": {},
     "output_type": "execute_result"
    }
   ],
   "source": [
    "df['boyut'] = df_temp['boyut']\n",
    "df['metro_yakinlik'] = df_temp['metro_yakinlik']\n",
    "\n",
    "df"
   ]
  },
  {
   "cell_type": "code",
   "execution_count": 14,
   "id": "2a825ed0",
   "metadata": {},
   "outputs": [
    {
     "name": "stdout",
     "output_type": "stream",
     "text": [
      "1.0 0.0\n"
     ]
    }
   ],
   "source": [
    "print(df['metro_yakinlik'].max(),df['metro_yakinlik'].min())"
   ]
  },
  {
   "cell_type": "code",
   "execution_count": 15,
   "id": "c1a82451",
   "metadata": {},
   "outputs": [
    {
     "name": "stdout",
     "output_type": "stream",
     "text": [
      "1.0 0.0\n"
     ]
    }
   ],
   "source": [
    "print(df['boyut'].max(),df['boyut'].min())"
   ]
  },
  {
   "cell_type": "markdown",
   "id": "d48ed5e6",
   "metadata": {},
   "source": [
    "    Tüm özellikler 0 - 1 aralığına alınmış oldu"
   ]
  },
  {
   "cell_type": "markdown",
   "id": "6876b285",
   "metadata": {},
   "source": [
    "# Lineer Regresyon ile tahmin"
   ]
  },
  {
   "cell_type": "markdown",
   "id": "afb21730",
   "metadata": {},
   "source": [
    "# 1) Gradient Descent algoritması ile tahmin"
   ]
  },
  {
   "cell_type": "code",
   "execution_count": 16,
   "id": "d58d2c73",
   "metadata": {},
   "outputs": [
    {
     "data": {
      "text/plain": [
       "(100,)"
      ]
     },
     "execution_count": 16,
     "metadata": {},
     "output_type": "execute_result"
    }
   ],
   "source": [
    "y_train = df['fiyat']\n",
    "\n",
    "y_train.shape"
   ]
  },
  {
   "cell_type": "code",
   "execution_count": 17,
   "id": "82292d82",
   "metadata": {},
   "outputs": [
    {
     "data": {
      "text/plain": [
       "(100, 2)"
      ]
     },
     "execution_count": 17,
     "metadata": {},
     "output_type": "execute_result"
    }
   ],
   "source": [
    "df_X = df.drop('fiyat',axis = 1)\n",
    "\n",
    "X_train = df_X.to_numpy()\n",
    "\n",
    "X_train.shape"
   ]
  },
  {
   "cell_type": "markdown",
   "id": "ad7a0d83",
   "metadata": {},
   "source": [
    "# 1a) Cost Function:\n",
    "     \n",
    "         J(w,b) = 1/2m( f_wb(x ^ i) - y ^ i) ^ 2  ;  i = 0..m - 1\n",
    "\n",
    "         ve f_wb(x) = w * x[i] + b olmak üzere:"
   ]
  },
  {
   "cell_type": "code",
   "execution_count": 18,
   "id": "0ef94fc1",
   "metadata": {},
   "outputs": [],
   "source": [
    "def compute_cost(X,y,w,b):\n",
    "    \n",
    "    m = X.shape[0] \n",
    "    \n",
    "    total_cost = 0\n",
    "    \n",
    "    cost_sum = 0\n",
    "    \n",
    "    for i in range(m):\n",
    "        \n",
    "        f_wb_i = np.dot(X[i], w) + b\n",
    "        \n",
    "        cost = (f_wb_i - y[i])**2\n",
    "        \n",
    "        cost_sum = cost_sum + cost\n",
    "        \n",
    "    total_cost = (1 / (2 * m)) * cost_sum    \n",
    "    \n",
    "    return total_cost"
   ]
  },
  {
   "cell_type": "code",
   "execution_count": 19,
   "id": "d5efec76",
   "metadata": {},
   "outputs": [
    {
     "data": {
      "text/plain": [
       "45655325999.155365"
      ]
     },
     "execution_count": 19,
     "metadata": {},
     "output_type": "execute_result"
    }
   ],
   "source": [
    "b_test = 0.03\n",
    "w_test = np.array([0.2 ,0.12])\n",
    "compute_cost(X_train,y_train,w_test,b_test)"
   ]
  },
  {
   "cell_type": "markdown",
   "id": "f31b5aff",
   "metadata": {},
   "source": [
    "# 1b) Gradient Descent için türev hesabı:"
   ]
  },
  {
   "cell_type": "markdown",
   "id": "8f579eb7",
   "metadata": {},
   "source": [
    "       Gradient Descent :\n",
    "   \n",
    "       yakınsama olana kadar tekrar et : {\n",
    "\n",
    "    w_j = w_j - a * (dJ(w,b) / dw_j)  ; j = 0..n - 1 (n = feature sayısı , a = learning rate alpha)\n",
    "\n",
    "    b = b - a * (dJ(w,b) / db)                     (w_j ve b aynı anda update edilecek(simultaneously))\n",
    "\n",
    "    }\n",
    "\n",
    "    ve \n",
    "\n",
    "    (dJ(w,b) / dw_j) = 1/m( f_wb(x ^ i) - y ^ i)x_j ^ i  ; i = 0..m - 1\n",
    "\n",
    "    (dJ(w,b) / db) =  1/m( f_wb(x ^ i) - y ^ i)"
   ]
  },
  {
   "cell_type": "code",
   "execution_count": 20,
   "id": "2d2c8a32",
   "metadata": {},
   "outputs": [],
   "source": [
    "# Gradient descent formüllerindeki türevli kısımları hesaplar\n",
    "def compute_gradient_derivatives(X,y,w,b):\n",
    "    m,n = X.shape\n",
    "    dj_dw = np.zeros((n,))   # J nin w ye göre kısmi türevi\n",
    "    dj_db = 0                # J nin b ye göre kısmi türevi\n",
    "    \n",
    "    for i in range(m):\n",
    "        \n",
    "        error = (np.dot(X[i],w) + b ) - y[i]\n",
    "        \n",
    "        for j in range(n):\n",
    "            \n",
    "            dj_dw[j] = dj_dw[j] + error*X[i,j] \n",
    "            \n",
    "        dj_db = dj_db + error \n",
    "        \n",
    "    dj_dw = dj_dw / m\n",
    "    dj_db = dj_db /m\n",
    "    \n",
    "    return dj_db , dj_dw"
   ]
  },
  {
   "cell_type": "code",
   "execution_count": 21,
   "id": "cd436233",
   "metadata": {},
   "outputs": [
    {
     "data": {
      "text/plain": [
       "(-292289.33581835544, array([ -94399.49695097, -108743.02099216]))"
      ]
     },
     "execution_count": 21,
     "metadata": {},
     "output_type": "execute_result"
    }
   ],
   "source": [
    "compute_gradient_derivatives(X_train,y_train,w_test,b_test)"
   ]
  },
  {
   "cell_type": "markdown",
   "id": "72f9852f",
   "metadata": {},
   "source": [
    "# 1c) Gradient Descent algoritması ile tahmin:"
   ]
  },
  {
   "cell_type": "code",
   "execution_count": 22,
   "id": "a8a2839c",
   "metadata": {},
   "outputs": [],
   "source": [
    "def gradient_descent(X, y, w_in, b_in, cost_function, compute_gradient_derivatives, alpha, num_iters): \n",
    "    \n",
    "    J_history = []\n",
    "    w = copy.deepcopy(w_in)  #fonksiyondaki global w değişkenin değiştirmemek için\n",
    "    b = b_in\n",
    "    \n",
    "    for i in range(num_iters):\n",
    "\n",
    "        # Türevleri hesapla ve ata\n",
    "        dj_db,dj_dw = compute_gradient_derivatives(X, y, w, b)\n",
    "\n",
    "        # Gradient Descent Algoritması, eş zamanlı update ediliyor\n",
    "        w = w - alpha * dj_dw             \n",
    "        b = b - alpha * dj_db\n",
    "      \n",
    "        # Her iterasyon sonrası cost değerlerini kaydet\n",
    "        if i<100001:      # sınırlama \n",
    "            J_history.append(cost_function(X, y, w, b))\n",
    "\n",
    "        # yapılacak iterasyon sayısının 10'da 1'ini geçtikçe J_history'nin son elemanını yazdır\n",
    "        if i% math.ceil(num_iters / 10) == 0:  \n",
    "            print(f\"Iteration {i}: Cost {J_history[-1]}\")\n",
    "        elif num_iters == len(J_history):\n",
    "            print(f\"Iteration {num_iters}: Cost {J_history[-1]}\")\n",
    "        \n",
    "    return w, b, J_history"
   ]
  },
  {
   "cell_type": "code",
   "execution_count": 23,
   "id": "aee8e73c",
   "metadata": {},
   "outputs": [
    {
     "name": "stdout",
     "output_type": "stream",
     "text": [
      "Iteration 0: Cost 35699863989.967735\n",
      "Iteration 100: Cost 1164886118.4049125\n",
      "Iteration 200: Cost 666398625.9043598\n",
      "Iteration 300: Cost 550904652.3852284\n",
      "Iteration 400: Cost 523414153.69281405\n",
      "Iteration 500: Cost 516368268.184697\n",
      "Iteration 600: Cost 514226612.9195824\n",
      "Iteration 700: Cost 513367247.7055878\n",
      "Iteration 800: Cost 512913361.3991495\n",
      "Iteration 900: Cost 512630403.06416947\n",
      "Iteration 1000: Cost 512442543.408926\n",
      "b,w found by gradient descent: 271611.99932799017,[ 244707.98315317 -112298.85010584] \n",
      "prediction: 246810.77855177084, target value: 234314.144\n",
      "prediction: 245291.36578666297, target value: 228581.528\n",
      "prediction: 226319.99031725837, target value: 281626.336\n",
      "prediction: 439653.49012654735, target value: 401255.608\n",
      "prediction: 402349.04017985374, target value: 458674.256\n",
      "prediction: 235045.97166940675, target value: 245050.28\n",
      "prediction: 245486.6134059124, target value: 265129.064\n",
      "prediction: 204557.59507125476, target value: 175716.48\n",
      "prediction: 280976.2816722541, target value: 331101.344\n",
      "prediction: 240733.12749133937, target value: 218630.608\n"
     ]
    }
   ],
   "source": [
    "w_init = np.zeros(2)\n",
    "b_init = 0\n",
    "iterations = 1000\n",
    "alpha = 0.1\n",
    "\n",
    "w_final , b_final , J_hist = gradient_descent(\n",
    "                X_train, y_train, w_init, b_init , compute_cost, compute_gradient_derivatives, alpha, iterations)\n",
    "\n",
    "print(f\"b,w found by gradient descent: {b_final},{w_final} \")\n",
    "\n",
    "for i in range(10):\n",
    "    print(f\"prediction: {np.dot(X_train[i], w_final) + b_final}, target value: {y_train[i]}\")"
   ]
  },
  {
   "cell_type": "markdown",
   "id": "98a5af49",
   "metadata": {},
   "source": [
    "# 1d) Sonuç:"
   ]
  },
  {
   "cell_type": "markdown",
   "id": "c5357e96",
   "metadata": {},
   "source": [
    "    Tahminler çok yüksek oranlarda isabetli çıkmasa da göreceli olarak yakın oldukları söylenebilir. Katsayıları yorumlar isek, \n",
    "        \n",
    "    beklendiği üzere ev boyutu arttıkça fiyat artmakta, metroya olan uzaklık arttıkça ise fiyat azalmaktadır.Ev boyutunun,fiyata \n",
    "    \n",
    "    metroya olan mesafeye kıyasla daha fazla etkisi olduğu söylenebilir."
   ]
  },
  {
   "cell_type": "markdown",
   "id": "ac4754a3",
   "metadata": {},
   "source": [
    "# 2) Sci-kit learn kütüphanesi ile tahmin"
   ]
  },
  {
   "cell_type": "markdown",
   "id": "b9200602",
   "metadata": {},
   "source": [
    "# LinearRegression ile tahmin:"
   ]
  },
  {
   "cell_type": "code",
   "execution_count": 24,
   "id": "46709382",
   "metadata": {},
   "outputs": [],
   "source": [
    "from sklearn.linear_model import LinearRegression"
   ]
  },
  {
   "cell_type": "code",
   "execution_count": 25,
   "id": "dd1d0618",
   "metadata": {},
   "outputs": [],
   "source": [
    "df_scikit = pd.read_csv('emlak_fiyat_boyut_metro.csv')"
   ]
  },
  {
   "cell_type": "code",
   "execution_count": 26,
   "id": "260fc090",
   "metadata": {},
   "outputs": [
    {
     "data": {
      "text/html": [
       "<div>\n",
       "<style scoped>\n",
       "    .dataframe tbody tr th:only-of-type {\n",
       "        vertical-align: middle;\n",
       "    }\n",
       "\n",
       "    .dataframe tbody tr th {\n",
       "        vertical-align: top;\n",
       "    }\n",
       "\n",
       "    .dataframe thead th {\n",
       "        text-align: right;\n",
       "    }\n",
       "</style>\n",
       "<table border=\"1\" class=\"dataframe\">\n",
       "  <thead>\n",
       "    <tr style=\"text-align: right;\">\n",
       "      <th></th>\n",
       "      <th>fiyat</th>\n",
       "      <th>boyut</th>\n",
       "      <th>metro_yakinlik</th>\n",
       "    </tr>\n",
       "  </thead>\n",
       "  <tbody>\n",
       "    <tr>\n",
       "      <th>0</th>\n",
       "      <td>234314.144</td>\n",
       "      <td>98</td>\n",
       "      <td>15</td>\n",
       "    </tr>\n",
       "    <tr>\n",
       "      <th>1</th>\n",
       "      <td>228581.528</td>\n",
       "      <td>100</td>\n",
       "      <td>16</td>\n",
       "    </tr>\n",
       "    <tr>\n",
       "      <th>2</th>\n",
       "      <td>281626.336</td>\n",
       "      <td>74</td>\n",
       "      <td>13</td>\n",
       "    </tr>\n",
       "    <tr>\n",
       "      <th>3</th>\n",
       "      <td>401255.608</td>\n",
       "      <td>229</td>\n",
       "      <td>5</td>\n",
       "    </tr>\n",
       "    <tr>\n",
       "      <th>4</th>\n",
       "      <td>458674.256</td>\n",
       "      <td>194</td>\n",
       "      <td>4</td>\n",
       "    </tr>\n",
       "    <tr>\n",
       "      <th>...</th>\n",
       "      <td>...</td>\n",
       "      <td>...</td>\n",
       "      <td>...</td>\n",
       "    </tr>\n",
       "    <tr>\n",
       "      <th>95</th>\n",
       "      <td>252460.400</td>\n",
       "      <td>84</td>\n",
       "      <td>14</td>\n",
       "    </tr>\n",
       "    <tr>\n",
       "      <th>96</th>\n",
       "      <td>310522.592</td>\n",
       "      <td>158</td>\n",
       "      <td>11</td>\n",
       "    </tr>\n",
       "    <tr>\n",
       "      <th>97</th>\n",
       "      <td>383635.568</td>\n",
       "      <td>229</td>\n",
       "      <td>12</td>\n",
       "    </tr>\n",
       "    <tr>\n",
       "      <th>98</th>\n",
       "      <td>225145.248</td>\n",
       "      <td>99</td>\n",
       "      <td>25</td>\n",
       "    </tr>\n",
       "    <tr>\n",
       "      <th>99</th>\n",
       "      <td>274922.856</td>\n",
       "      <td>107</td>\n",
       "      <td>20</td>\n",
       "    </tr>\n",
       "  </tbody>\n",
       "</table>\n",
       "<p>100 rows × 3 columns</p>\n",
       "</div>"
      ],
      "text/plain": [
       "         fiyat  boyut  metro_yakinlik\n",
       "0   234314.144     98              15\n",
       "1   228581.528    100              16\n",
       "2   281626.336     74              13\n",
       "3   401255.608    229               5\n",
       "4   458674.256    194               4\n",
       "..         ...    ...             ...\n",
       "95  252460.400     84              14\n",
       "96  310522.592    158              11\n",
       "97  383635.568    229              12\n",
       "98  225145.248     99              25\n",
       "99  274922.856    107              20\n",
       "\n",
       "[100 rows x 3 columns]"
      ]
     },
     "execution_count": 26,
     "metadata": {},
     "output_type": "execute_result"
    }
   ],
   "source": [
    "df_scikit"
   ]
  },
  {
   "cell_type": "code",
   "execution_count": 27,
   "id": "e06122c3",
   "metadata": {},
   "outputs": [
    {
     "data": {
      "text/plain": [
       "(100,)"
      ]
     },
     "execution_count": 27,
     "metadata": {},
     "output_type": "execute_result"
    }
   ],
   "source": [
    "y_train_scikit = df_scikit['fiyat']\n",
    "\n",
    "y_train_scikit.shape"
   ]
  },
  {
   "cell_type": "code",
   "execution_count": 28,
   "id": "53d8389e",
   "metadata": {},
   "outputs": [
    {
     "data": {
      "text/plain": [
       "(100, 2)"
      ]
     },
     "execution_count": 28,
     "metadata": {},
     "output_type": "execute_result"
    }
   ],
   "source": [
    "X_train_scikit = df_scikit.drop('fiyat',axis = 1)\n",
    "\n",
    "X_train_scikit.shape"
   ]
  },
  {
   "cell_type": "code",
   "execution_count": 29,
   "id": "7ed0169f",
   "metadata": {},
   "outputs": [
    {
     "data": {
      "text/html": [
       "<style>#sk-container-id-1 {color: black;background-color: white;}#sk-container-id-1 pre{padding: 0;}#sk-container-id-1 div.sk-toggleable {background-color: white;}#sk-container-id-1 label.sk-toggleable__label {cursor: pointer;display: block;width: 100%;margin-bottom: 0;padding: 0.3em;box-sizing: border-box;text-align: center;}#sk-container-id-1 label.sk-toggleable__label-arrow:before {content: \"▸\";float: left;margin-right: 0.25em;color: #696969;}#sk-container-id-1 label.sk-toggleable__label-arrow:hover:before {color: black;}#sk-container-id-1 div.sk-estimator:hover label.sk-toggleable__label-arrow:before {color: black;}#sk-container-id-1 div.sk-toggleable__content {max-height: 0;max-width: 0;overflow: hidden;text-align: left;background-color: #f0f8ff;}#sk-container-id-1 div.sk-toggleable__content pre {margin: 0.2em;color: black;border-radius: 0.25em;background-color: #f0f8ff;}#sk-container-id-1 input.sk-toggleable__control:checked~div.sk-toggleable__content {max-height: 200px;max-width: 100%;overflow: auto;}#sk-container-id-1 input.sk-toggleable__control:checked~label.sk-toggleable__label-arrow:before {content: \"▾\";}#sk-container-id-1 div.sk-estimator input.sk-toggleable__control:checked~label.sk-toggleable__label {background-color: #d4ebff;}#sk-container-id-1 div.sk-label input.sk-toggleable__control:checked~label.sk-toggleable__label {background-color: #d4ebff;}#sk-container-id-1 input.sk-hidden--visually {border: 0;clip: rect(1px 1px 1px 1px);clip: rect(1px, 1px, 1px, 1px);height: 1px;margin: -1px;overflow: hidden;padding: 0;position: absolute;width: 1px;}#sk-container-id-1 div.sk-estimator {font-family: monospace;background-color: #f0f8ff;border: 1px dotted black;border-radius: 0.25em;box-sizing: border-box;margin-bottom: 0.5em;}#sk-container-id-1 div.sk-estimator:hover {background-color: #d4ebff;}#sk-container-id-1 div.sk-parallel-item::after {content: \"\";width: 100%;border-bottom: 1px solid gray;flex-grow: 1;}#sk-container-id-1 div.sk-label:hover label.sk-toggleable__label {background-color: #d4ebff;}#sk-container-id-1 div.sk-serial::before {content: \"\";position: absolute;border-left: 1px solid gray;box-sizing: border-box;top: 0;bottom: 0;left: 50%;z-index: 0;}#sk-container-id-1 div.sk-serial {display: flex;flex-direction: column;align-items: center;background-color: white;padding-right: 0.2em;padding-left: 0.2em;position: relative;}#sk-container-id-1 div.sk-item {position: relative;z-index: 1;}#sk-container-id-1 div.sk-parallel {display: flex;align-items: stretch;justify-content: center;background-color: white;position: relative;}#sk-container-id-1 div.sk-item::before, #sk-container-id-1 div.sk-parallel-item::before {content: \"\";position: absolute;border-left: 1px solid gray;box-sizing: border-box;top: 0;bottom: 0;left: 50%;z-index: -1;}#sk-container-id-1 div.sk-parallel-item {display: flex;flex-direction: column;z-index: 1;position: relative;background-color: white;}#sk-container-id-1 div.sk-parallel-item:first-child::after {align-self: flex-end;width: 50%;}#sk-container-id-1 div.sk-parallel-item:last-child::after {align-self: flex-start;width: 50%;}#sk-container-id-1 div.sk-parallel-item:only-child::after {width: 0;}#sk-container-id-1 div.sk-dashed-wrapped {border: 1px dashed gray;margin: 0 0.4em 0.5em 0.4em;box-sizing: border-box;padding-bottom: 0.4em;background-color: white;}#sk-container-id-1 div.sk-label label {font-family: monospace;font-weight: bold;display: inline-block;line-height: 1.2em;}#sk-container-id-1 div.sk-label-container {text-align: center;}#sk-container-id-1 div.sk-container {/* jupyter's `normalize.less` sets `[hidden] { display: none; }` but bootstrap.min.css set `[hidden] { display: none !important; }` so we also need the `!important` here to be able to override the default hidden behavior on the sphinx rendered scikit-learn.org. See: https://github.com/scikit-learn/scikit-learn/issues/21755 */display: inline-block !important;position: relative;}#sk-container-id-1 div.sk-text-repr-fallback {display: none;}</style><div id=\"sk-container-id-1\" class=\"sk-top-container\"><div class=\"sk-text-repr-fallback\"><pre>LinearRegression()</pre><b>In a Jupyter environment, please rerun this cell to show the HTML representation or trust the notebook. <br />On GitHub, the HTML representation is unable to render, please try loading this page with nbviewer.org.</b></div><div class=\"sk-container\" hidden><div class=\"sk-item\"><div class=\"sk-estimator sk-toggleable\"><input class=\"sk-toggleable__control sk-hidden--visually\" id=\"sk-estimator-id-1\" type=\"checkbox\" checked><label for=\"sk-estimator-id-1\" class=\"sk-toggleable__label sk-toggleable__label-arrow\">LinearRegression</label><div class=\"sk-toggleable__content\"><pre>LinearRegression()</pre></div></div></div></div></div>"
      ],
      "text/plain": [
       "LinearRegression()"
      ]
     },
     "execution_count": 29,
     "metadata": {},
     "output_type": "execute_result"
    }
   ],
   "source": [
    "reg = LinearRegression()\n",
    "\n",
    "reg.fit(X_train_scikit, y_train_scikit)"
   ]
  },
  {
   "cell_type": "code",
   "execution_count": 30,
   "id": "f3bfb5e2",
   "metadata": {},
   "outputs": [
    {
     "data": {
      "text/plain": [
       "194304.1241655013"
      ]
     },
     "execution_count": 30,
     "metadata": {},
     "output_type": "execute_result"
    }
   ],
   "source": [
    "reg.intercept_"
   ]
  },
  {
   "cell_type": "code",
   "execution_count": 31,
   "id": "667a40a8",
   "metadata": {},
   "outputs": [
    {
     "data": {
      "text/plain": [
       "array([ 1156.04485385, -4025.75063265])"
      ]
     },
     "execution_count": 31,
     "metadata": {},
     "output_type": "execute_result"
    }
   ],
   "source": [
    "reg.coef_"
   ]
  },
  {
   "cell_type": "code",
   "execution_count": 32,
   "id": "04ad3b41",
   "metadata": {},
   "outputs": [],
   "source": [
    "prediction = reg.predict(X_train_scikit)"
   ]
  },
  {
   "cell_type": "code",
   "execution_count": 33,
   "id": "e5afbf42",
   "metadata": {},
   "outputs": [
    {
     "name": "stdout",
     "output_type": "stream",
     "text": [
      "Prediction with sklearn LinearRegression:\n",
      "[247210.26035299 245496.59942804 227516.6851259  438909.64253389]\n",
      "target value:\n",
      "0    234314.144\n",
      "1    228581.528\n",
      "2    281626.336\n",
      "3    401255.608\n",
      "Name: fiyat, dtype: float64\n"
     ]
    }
   ],
   "source": [
    "print(f'Prediction with sklearn LinearRegression:\\n{prediction[:4]}\\ntarget value:\\n{y_train_scikit[:4]}')"
   ]
  },
  {
   "cell_type": "markdown",
   "id": "dbc56ed8",
   "metadata": {},
   "source": [
    "    Sonuç : Gradient descent ile neredeyse aynı tahminler yapıldı, çok isabetli tahminler olduğu söylenemez. \n"
   ]
  },
  {
   "cell_type": "code",
   "execution_count": null,
   "id": "32e134ea",
   "metadata": {},
   "outputs": [],
   "source": []
  }
 ],
 "metadata": {
  "kernelspec": {
   "display_name": "Python 3 (ipykernel)",
   "language": "python",
   "name": "python3"
  },
  "language_info": {
   "codemirror_mode": {
    "name": "ipython",
    "version": 3
   },
   "file_extension": ".py",
   "mimetype": "text/x-python",
   "name": "python",
   "nbconvert_exporter": "python",
   "pygments_lexer": "ipython3",
   "version": "3.10.6"
  }
 },
 "nbformat": 4,
 "nbformat_minor": 5
}
